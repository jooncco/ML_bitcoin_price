{
 "cells": [
  {
   "cell_type": "code",
   "execution_count": 1,
   "metadata": {},
   "outputs": [],
   "source": [
    "import pandas as pd\n",
    "import numpy as np\n",
    "import matplotlib as plt\n",
    "%matplotlib inline"
   ]
  },
  {
   "cell_type": "markdown",
   "metadata": {},
   "source": [
    "LOAD DATASET"
   ]
  },
  {
   "cell_type": "code",
   "execution_count": 2,
   "metadata": {},
   "outputs": [
    {
     "data": {
      "text/html": [
       "<div>\n",
       "<style scoped>\n",
       "    .dataframe tbody tr th:only-of-type {\n",
       "        vertical-align: middle;\n",
       "    }\n",
       "\n",
       "    .dataframe tbody tr th {\n",
       "        vertical-align: top;\n",
       "    }\n",
       "\n",
       "    .dataframe thead th {\n",
       "        text-align: right;\n",
       "    }\n",
       "</style>\n",
       "<table border=\"1\" class=\"dataframe\">\n",
       "  <thead>\n",
       "    <tr style=\"text-align: right;\">\n",
       "      <th></th>\n",
       "      <th>Date</th>\n",
       "      <th>BTC_Price</th>\n",
       "      <th>DOW_Price</th>\n",
       "      <th>NASDAQ_Price</th>\n",
       "      <th>GOLD_Price</th>\n",
       "      <th>USD_Price</th>\n",
       "      <th>US_BCI</th>\n",
       "      <th>US_CCI</th>\n",
       "      <th>US2TB</th>\n",
       "      <th>US30TB</th>\n",
       "      <th>ETH</th>\n",
       "      <th>XRP</th>\n",
       "      <th>US_INTR</th>\n",
       "      <th>S&amp;P</th>\n",
       "      <th>BTCCash</th>\n",
       "      <th>LTC</th>\n",
       "      <th>Gsearch</th>\n",
       "    </tr>\n",
       "  </thead>\n",
       "  <tbody>\n",
       "    <tr>\n",
       "      <th>0</th>\n",
       "      <td>2012-02-02</td>\n",
       "      <td>6.1</td>\n",
       "      <td>12705.41</td>\n",
       "      <td>2859.68</td>\n",
       "      <td>1756.8</td>\n",
       "      <td>79.11</td>\n",
       "      <td>100.07</td>\n",
       "      <td>98.71</td>\n",
       "      <td>110.37</td>\n",
       "      <td>144.59</td>\n",
       "      <td>0.0</td>\n",
       "      <td>0.0</td>\n",
       "      <td>0.75</td>\n",
       "      <td>1325.54</td>\n",
       "      <td>0.0</td>\n",
       "      <td>0.0</td>\n",
       "      <td>1</td>\n",
       "    </tr>\n",
       "    <tr>\n",
       "      <th>1</th>\n",
       "      <td>2012-02-03</td>\n",
       "      <td>6.0</td>\n",
       "      <td>12862.23</td>\n",
       "      <td>2905.66</td>\n",
       "      <td>1737.9</td>\n",
       "      <td>79.06</td>\n",
       "      <td>100.07</td>\n",
       "      <td>98.71</td>\n",
       "      <td>110.33</td>\n",
       "      <td>142.41</td>\n",
       "      <td>0.0</td>\n",
       "      <td>0.0</td>\n",
       "      <td>0.75</td>\n",
       "      <td>1344.90</td>\n",
       "      <td>0.0</td>\n",
       "      <td>0.0</td>\n",
       "      <td>1</td>\n",
       "    </tr>\n",
       "    <tr>\n",
       "      <th>2</th>\n",
       "      <td>2012-02-06</td>\n",
       "      <td>5.4</td>\n",
       "      <td>12845.13</td>\n",
       "      <td>2901.99</td>\n",
       "      <td>1722.8</td>\n",
       "      <td>79.19</td>\n",
       "      <td>100.07</td>\n",
       "      <td>98.71</td>\n",
       "      <td>110.35</td>\n",
       "      <td>143.28</td>\n",
       "      <td>0.0</td>\n",
       "      <td>0.0</td>\n",
       "      <td>0.75</td>\n",
       "      <td>1344.33</td>\n",
       "      <td>0.0</td>\n",
       "      <td>0.0</td>\n",
       "      <td>1</td>\n",
       "    </tr>\n",
       "    <tr>\n",
       "      <th>3</th>\n",
       "      <td>2012-02-07</td>\n",
       "      <td>5.7</td>\n",
       "      <td>12878.20</td>\n",
       "      <td>2904.08</td>\n",
       "      <td>1746.4</td>\n",
       "      <td>78.67</td>\n",
       "      <td>100.07</td>\n",
       "      <td>98.71</td>\n",
       "      <td>110.31</td>\n",
       "      <td>142.31</td>\n",
       "      <td>0.0</td>\n",
       "      <td>0.0</td>\n",
       "      <td>0.75</td>\n",
       "      <td>1347.05</td>\n",
       "      <td>0.0</td>\n",
       "      <td>0.0</td>\n",
       "      <td>1</td>\n",
       "    </tr>\n",
       "    <tr>\n",
       "      <th>4</th>\n",
       "      <td>2012-02-08</td>\n",
       "      <td>5.6</td>\n",
       "      <td>12883.95</td>\n",
       "      <td>2915.86</td>\n",
       "      <td>1729.3</td>\n",
       "      <td>78.73</td>\n",
       "      <td>100.07</td>\n",
       "      <td>98.71</td>\n",
       "      <td>110.30</td>\n",
       "      <td>142.22</td>\n",
       "      <td>0.0</td>\n",
       "      <td>0.0</td>\n",
       "      <td>0.75</td>\n",
       "      <td>1349.96</td>\n",
       "      <td>0.0</td>\n",
       "      <td>0.0</td>\n",
       "      <td>1</td>\n",
       "    </tr>\n",
       "  </tbody>\n",
       "</table>\n",
       "</div>"
      ],
      "text/plain": [
       "         Date  BTC_Price  DOW_Price  NASDAQ_Price  GOLD_Price  USD_Price  \\\n",
       "0  2012-02-02        6.1   12705.41       2859.68      1756.8      79.11   \n",
       "1  2012-02-03        6.0   12862.23       2905.66      1737.9      79.06   \n",
       "2  2012-02-06        5.4   12845.13       2901.99      1722.8      79.19   \n",
       "3  2012-02-07        5.7   12878.20       2904.08      1746.4      78.67   \n",
       "4  2012-02-08        5.6   12883.95       2915.86      1729.3      78.73   \n",
       "\n",
       "   US_BCI  US_CCI   US2TB  US30TB  ETH  XRP  US_INTR      S&P  BTCCash  LTC  \\\n",
       "0  100.07   98.71  110.37  144.59  0.0  0.0     0.75  1325.54      0.0  0.0   \n",
       "1  100.07   98.71  110.33  142.41  0.0  0.0     0.75  1344.90      0.0  0.0   \n",
       "2  100.07   98.71  110.35  143.28  0.0  0.0     0.75  1344.33      0.0  0.0   \n",
       "3  100.07   98.71  110.31  142.31  0.0  0.0     0.75  1347.05      0.0  0.0   \n",
       "4  100.07   98.71  110.30  142.22  0.0  0.0     0.75  1349.96      0.0  0.0   \n",
       "\n",
       "   Gsearch  \n",
       "0        1  \n",
       "1        1  \n",
       "2        1  \n",
       "3        1  \n",
       "4        1  "
      ]
     },
     "execution_count": 2,
     "metadata": {},
     "output_type": "execute_result"
    }
   ],
   "source": [
    "idx_start, idx_split, idx_end = (487, 1013, 1270)\n",
    "data = pd.read_csv('price_market.csv')    # 2012~2018\n",
    "train = data.loc[idx_start:idx_split]     # 2014~2015\n",
    "validation = data.loc[idx_split:idx_end]  # 2016  \n",
    "data.head(5)"
   ]
  },
  {
   "cell_type": "markdown",
   "metadata": {},
   "source": [
    "We have large dataset spanning from 2012 to 2018, but our main focus here is to predict daily bitcoin price. In other words, our model will learn to detect local pattern of everyday market & trend data which reflects daily bitcoin price fluctuation."
   ]
  },
  {
   "cell_type": "markdown",
   "metadata": {},
   "source": [
    "DATA EXPLORATION AND VISUALIZATION\n",
    "\n",
    "1. Bitcoin price"
   ]
  },
  {
   "cell_type": "code",
   "execution_count": 3,
   "metadata": {},
   "outputs": [
    {
     "data": {
      "text/plain": [
       "<matplotlib.axes._subplots.AxesSubplot at 0x266af87a518>"
      ]
     },
     "execution_count": 3,
     "metadata": {},
     "output_type": "execute_result"
    },
    {
     "data": {
      "image/png": "[encoded data removed]",
      "text/plain": [
       "<Figure size 432x288 with 1 Axes>"
      ]
     },
     "metadata": {},
     "output_type": "display_data"
    }
   ],
   "source": [
    "data['year'] = pd.DatetimeIndex(data['Date']).year\n",
    "data.plot(x = 'year', y = 'BTC_Price')"
   ]
  },
  {
   "cell_type": "markdown",
   "metadata": {},
   "source": []
  }
 ],
 "metadata": {
  "kernelspec": {
   "display_name": "Python 3",
   "language": "python",
   "name": "python3"
  },
  "language_info": {
   "codemirror_mode": {
    "name": "ipython",
    "version": 3
   },
   "file_extension": ".py",
   "mimetype": "text/x-python",
   "name": "python",
   "nbconvert_exporter": "python",
   "pygments_lexer": "ipython3",
   "version": "3.6.5"
  }
 },
 "nbformat": 4,
 "nbformat_minor": 2
}
